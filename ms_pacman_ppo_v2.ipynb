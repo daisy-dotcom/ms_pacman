{
  "cells": [
    {
      "cell_type": "markdown",
      "metadata": {
        "id": "view-in-github",
        "colab_type": "text"
      },
      "source": [
        "<a href=\"https://colab.research.google.com/github/daisy-dotcom/ms_pacman/blob/main/ms_pacman_ppo_v2.ipynb\" target=\"_parent\"><img src=\"https://colab.research.google.com/assets/colab-badge.svg\" alt=\"Open In Colab\"/></a>"
      ]
    },
    {
      "cell_type": "markdown",
      "metadata": {
        "id": "8AyUp79FNiPu"
      },
      "source": [
        "Only run to save to Google Drive"
      ]
    },
    {
      "cell_type": "code",
      "execution_count": null,
      "metadata": {
        "id": "gxxqBW6C4H6u"
      },
      "outputs": [],
      "source": [
        "from google.colab import drive\n",
        "drive.mount('/content/drive')"
      ]
    },
    {
      "cell_type": "code",
      "execution_count": 1,
      "metadata": {
        "colab": {
          "base_uri": "https://localhost:8080/"
        },
        "id": "ZQ-tkr9TbHbd",
        "outputId": "a3ed58b9-5bdc-4dff-e807-66a36c66a1e2"
      },
      "outputs": [
        {
          "output_type": "stream",
          "name": "stdout",
          "text": [
            "\u001b[33m\r0% [Working]\u001b[0m\r            \rGet:1 https://cloud.r-project.org/bin/linux/ubuntu jammy-cran40/ InRelease [3,626 B]\n",
            "Hit:2 https://developer.download.nvidia.com/compute/cuda/repos/ubuntu2204/x86_64  InRelease\n",
            "Hit:3 http://archive.ubuntu.com/ubuntu jammy InRelease\n",
            "Get:4 http://security.ubuntu.com/ubuntu jammy-security InRelease [129 kB]\n",
            "Get:5 http://archive.ubuntu.com/ubuntu jammy-updates InRelease [128 kB]\n",
            "Ign:6 https://r2u.stat.illinois.edu/ubuntu jammy InRelease\n",
            "Hit:7 http://archive.ubuntu.com/ubuntu jammy-backports InRelease\n",
            "Get:8 https://r2u.stat.illinois.edu/ubuntu jammy Release [5,713 B]\n",
            "Get:9 https://r2u.stat.illinois.edu/ubuntu jammy Release.gpg [793 B]\n",
            "Get:10 http://security.ubuntu.com/ubuntu jammy-security/main amd64 Packages [2,326 kB]\n",
            "Get:11 http://archive.ubuntu.com/ubuntu jammy-updates/universe amd64 Packages [1,449 kB]\n",
            "Get:12 http://security.ubuntu.com/ubuntu jammy-security/universe amd64 Packages [1,160 kB]\n",
            "Get:13 http://archive.ubuntu.com/ubuntu jammy-updates/main amd64 Packages [2,602 kB]\n",
            "Get:14 https://r2u.stat.illinois.edu/ubuntu jammy/main all Packages [8,384 kB]\n",
            "Get:15 https://r2u.stat.illinois.edu/ubuntu jammy/main amd64 Packages [2,592 kB]\n",
            "Hit:16 https://ppa.launchpadcontent.net/deadsnakes/ppa/ubuntu jammy InRelease\n",
            "Hit:17 https://ppa.launchpadcontent.net/graphics-drivers/ppa/ubuntu jammy InRelease\n",
            "Hit:18 https://ppa.launchpadcontent.net/ubuntugis/ppa/ubuntu jammy InRelease\n",
            "Fetched 18.8 MB in 5s (4,156 kB/s)\n",
            "Reading package lists... Done\n",
            "Building dependency tree... Done\n",
            "Reading state information... Done\n",
            "51 packages can be upgraded. Run 'apt list --upgradable' to see them.\n",
            "\u001b[1;33mW: \u001b[0mSkipping acquire of configured file 'main/source/Sources' as repository 'https://r2u.stat.illinois.edu/ubuntu jammy InRelease' does not seem to provide it (sources.list entry misspelt?)\u001b[0m\n",
            "Reading package lists... Done\n",
            "Building dependency tree... Done\n",
            "Reading state information... Done\n",
            "The following additional packages will be installed:\n",
            "  libfontenc1 libxfont2 libxkbfile1 libxtst6 libxxf86dga1 x11-xkb-utils xfonts-base\n",
            "  xfonts-encodings xfonts-utils xserver-common\n",
            "Suggested packages:\n",
            "  mesa-utils\n",
            "The following NEW packages will be installed:\n",
            "  libfontenc1 libxfont2 libxkbfile1 libxtst6 libxxf86dga1 x11-utils x11-xkb-utils xfonts-base\n",
            "  xfonts-encodings xfonts-utils xserver-common xvfb\n",
            "0 upgraded, 12 newly installed, 0 to remove and 51 not upgraded.\n",
            "Need to get 8,045 kB of archives.\n",
            "After this operation, 12.8 MB of additional disk space will be used.\n",
            "Get:1 http://archive.ubuntu.com/ubuntu jammy/main amd64 libfontenc1 amd64 1:1.1.4-1build3 [14.7 kB]\n",
            "Get:2 http://archive.ubuntu.com/ubuntu jammy/main amd64 libxfont2 amd64 1:2.0.5-1build1 [94.5 kB]\n",
            "Get:3 http://archive.ubuntu.com/ubuntu jammy/main amd64 libxkbfile1 amd64 1:1.1.0-1build3 [71.8 kB]\n",
            "Get:4 http://archive.ubuntu.com/ubuntu jammy/main amd64 libxtst6 amd64 2:1.2.3-1build4 [13.4 kB]\n",
            "Get:5 http://archive.ubuntu.com/ubuntu jammy/main amd64 libxxf86dga1 amd64 2:1.1.5-0ubuntu3 [12.6 kB]\n",
            "Get:6 http://archive.ubuntu.com/ubuntu jammy/main amd64 x11-utils amd64 7.7+5build2 [206 kB]\n",
            "Get:7 http://archive.ubuntu.com/ubuntu jammy/main amd64 x11-xkb-utils amd64 7.7+5build4 [172 kB]\n",
            "Get:8 http://archive.ubuntu.com/ubuntu jammy/main amd64 xfonts-encodings all 1:1.0.5-0ubuntu2 [578 kB]\n",
            "Get:9 http://archive.ubuntu.com/ubuntu jammy/main amd64 xfonts-utils amd64 1:7.7+6build2 [94.6 kB]\n",
            "Get:10 http://archive.ubuntu.com/ubuntu jammy/main amd64 xfonts-base all 1:1.0.5 [5,896 kB]\n",
            "Get:11 http://archive.ubuntu.com/ubuntu jammy-updates/main amd64 xserver-common all 2:21.1.4-2ubuntu1.7~22.04.11 [28.6 kB]\n",
            "Get:12 http://archive.ubuntu.com/ubuntu jammy-updates/universe amd64 xvfb amd64 2:21.1.4-2ubuntu1.7~22.04.11 [863 kB]\n",
            "Fetched 8,045 kB in 1s (7,838 kB/s)\n",
            "Selecting previously unselected package libfontenc1:amd64.\n",
            "(Reading database ... 123621 files and directories currently installed.)\n",
            "Preparing to unpack .../00-libfontenc1_1%3a1.1.4-1build3_amd64.deb ...\n",
            "Unpacking libfontenc1:amd64 (1:1.1.4-1build3) ...\n",
            "Selecting previously unselected package libxfont2:amd64.\n",
            "Preparing to unpack .../01-libxfont2_1%3a2.0.5-1build1_amd64.deb ...\n",
            "Unpacking libxfont2:amd64 (1:2.0.5-1build1) ...\n",
            "Selecting previously unselected package libxkbfile1:amd64.\n",
            "Preparing to unpack .../02-libxkbfile1_1%3a1.1.0-1build3_amd64.deb ...\n",
            "Unpacking libxkbfile1:amd64 (1:1.1.0-1build3) ...\n",
            "Selecting previously unselected package libxtst6:amd64.\n",
            "Preparing to unpack .../03-libxtst6_2%3a1.2.3-1build4_amd64.deb ...\n",
            "Unpacking libxtst6:amd64 (2:1.2.3-1build4) ...\n",
            "Selecting previously unselected package libxxf86dga1:amd64.\n",
            "Preparing to unpack .../04-libxxf86dga1_2%3a1.1.5-0ubuntu3_amd64.deb ...\n",
            "Unpacking libxxf86dga1:amd64 (2:1.1.5-0ubuntu3) ...\n",
            "Selecting previously unselected package x11-utils.\n",
            "Preparing to unpack .../05-x11-utils_7.7+5build2_amd64.deb ...\n",
            "Unpacking x11-utils (7.7+5build2) ...\n",
            "Selecting previously unselected package x11-xkb-utils.\n",
            "Preparing to unpack .../06-x11-xkb-utils_7.7+5build4_amd64.deb ...\n",
            "Unpacking x11-xkb-utils (7.7+5build4) ...\n",
            "Selecting previously unselected package xfonts-encodings.\n",
            "Preparing to unpack .../07-xfonts-encodings_1%3a1.0.5-0ubuntu2_all.deb ...\n",
            "Unpacking xfonts-encodings (1:1.0.5-0ubuntu2) ...\n",
            "Selecting previously unselected package xfonts-utils.\n",
            "Preparing to unpack .../08-xfonts-utils_1%3a7.7+6build2_amd64.deb ...\n",
            "Unpacking xfonts-utils (1:7.7+6build2) ...\n",
            "Selecting previously unselected package xfonts-base.\n",
            "Preparing to unpack .../09-xfonts-base_1%3a1.0.5_all.deb ...\n",
            "Unpacking xfonts-base (1:1.0.5) ...\n",
            "Selecting previously unselected package xserver-common.\n",
            "Preparing to unpack .../10-xserver-common_2%3a21.1.4-2ubuntu1.7~22.04.11_all.deb ...\n",
            "Unpacking xserver-common (2:21.1.4-2ubuntu1.7~22.04.11) ...\n",
            "Selecting previously unselected package xvfb.\n",
            "Preparing to unpack .../11-xvfb_2%3a21.1.4-2ubuntu1.7~22.04.11_amd64.deb ...\n",
            "Unpacking xvfb (2:21.1.4-2ubuntu1.7~22.04.11) ...\n",
            "Setting up libxtst6:amd64 (2:1.2.3-1build4) ...\n",
            "Setting up libxxf86dga1:amd64 (2:1.1.5-0ubuntu3) ...\n",
            "Setting up libfontenc1:amd64 (1:1.1.4-1build3) ...\n",
            "Setting up xfonts-encodings (1:1.0.5-0ubuntu2) ...\n",
            "Setting up libxkbfile1:amd64 (1:1.1.0-1build3) ...\n",
            "Setting up libxfont2:amd64 (1:2.0.5-1build1) ...\n",
            "Setting up x11-xkb-utils (7.7+5build4) ...\n",
            "Setting up xfonts-utils (1:7.7+6build2) ...\n",
            "Setting up xfonts-base (1:1.0.5) ...\n",
            "Setting up x11-utils (7.7+5build2) ...\n",
            "Setting up xserver-common (2:21.1.4-2ubuntu1.7~22.04.11) ...\n",
            "Setting up xvfb (2:21.1.4-2ubuntu1.7~22.04.11) ...\n",
            "Processing triggers for man-db (2.10.2-1) ...\n",
            "Processing triggers for fontconfig (2.13.1-4.2ubuntu5) ...\n",
            "Processing triggers for libc-bin (2.35-0ubuntu3.4) ...\n",
            "/sbin/ldconfig.real: /usr/local/lib/libur_adapter_level_zero.so.0 is not a symbolic link\n",
            "\n",
            "/sbin/ldconfig.real: /usr/local/lib/libtbbbind_2_0.so.3 is not a symbolic link\n",
            "\n",
            "/sbin/ldconfig.real: /usr/local/lib/libtbbbind.so.3 is not a symbolic link\n",
            "\n",
            "/sbin/ldconfig.real: /usr/local/lib/libtbbmalloc_proxy.so.2 is not a symbolic link\n",
            "\n",
            "/sbin/ldconfig.real: /usr/local/lib/libtbbmalloc.so.2 is not a symbolic link\n",
            "\n",
            "/sbin/ldconfig.real: /usr/local/lib/libtbbbind_2_5.so.3 is not a symbolic link\n",
            "\n",
            "/sbin/ldconfig.real: /usr/local/lib/libtbb.so.12 is not a symbolic link\n",
            "\n",
            "/sbin/ldconfig.real: /usr/local/lib/libur_adapter_opencl.so.0 is not a symbolic link\n",
            "\n",
            "/sbin/ldconfig.real: /usr/local/lib/libur_loader.so.0 is not a symbolic link\n",
            "\n",
            "Collecting swig\n",
            "  Downloading swig-4.2.1-py2.py3-none-manylinux_2_5_x86_64.manylinux1_x86_64.whl.metadata (3.6 kB)\n",
            "Downloading swig-4.2.1-py2.py3-none-manylinux_2_5_x86_64.manylinux1_x86_64.whl (1.9 MB)\n",
            "\u001b[2K   \u001b[90m━━━━━━━━━━━━━━━━━━━━━━━━━━━━━━━━━━━━━━━━\u001b[0m \u001b[32m1.9/1.9 MB\u001b[0m \u001b[31m40.3 MB/s\u001b[0m eta \u001b[36m0:00:00\u001b[0m\n",
            "\u001b[?25hInstalling collected packages: swig\n",
            "Successfully installed swig-4.2.1\n",
            "Collecting pyvirtualdisplay\n",
            "  Downloading PyVirtualDisplay-3.0-py3-none-any.whl.metadata (943 bytes)\n",
            "Requirement already satisfied: moviepy in /usr/local/lib/python3.10/dist-packages (1.0.3)\n",
            "Requirement already satisfied: decorator<5.0,>=4.0.2 in /usr/local/lib/python3.10/dist-packages (from moviepy) (4.4.2)\n",
            "Requirement already satisfied: tqdm<5.0,>=4.11.2 in /usr/local/lib/python3.10/dist-packages (from moviepy) (4.66.5)\n",
            "Requirement already satisfied: requests<3.0,>=2.8.1 in /usr/local/lib/python3.10/dist-packages (from moviepy) (2.32.3)\n",
            "Requirement already satisfied: proglog<=1.0.0 in /usr/local/lib/python3.10/dist-packages (from moviepy) (0.1.10)\n",
            "Requirement already satisfied: numpy>=1.17.3 in /usr/local/lib/python3.10/dist-packages (from moviepy) (1.26.4)\n",
            "Requirement already satisfied: imageio<3.0,>=2.5 in /usr/local/lib/python3.10/dist-packages (from moviepy) (2.35.1)\n",
            "Requirement already satisfied: imageio-ffmpeg>=0.2.0 in /usr/local/lib/python3.10/dist-packages (from moviepy) (0.5.1)\n",
            "Requirement already satisfied: pillow>=8.3.2 in /usr/local/lib/python3.10/dist-packages (from imageio<3.0,>=2.5->moviepy) (10.4.0)\n",
            "Requirement already satisfied: setuptools in /usr/local/lib/python3.10/dist-packages (from imageio-ffmpeg>=0.2.0->moviepy) (71.0.4)\n",
            "Requirement already satisfied: charset-normalizer<4,>=2 in /usr/local/lib/python3.10/dist-packages (from requests<3.0,>=2.8.1->moviepy) (3.3.2)\n",
            "Requirement already satisfied: idna<4,>=2.5 in /usr/local/lib/python3.10/dist-packages (from requests<3.0,>=2.8.1->moviepy) (3.10)\n",
            "Requirement already satisfied: urllib3<3,>=1.21.1 in /usr/local/lib/python3.10/dist-packages (from requests<3.0,>=2.8.1->moviepy) (2.2.3)\n",
            "Requirement already satisfied: certifi>=2017.4.17 in /usr/local/lib/python3.10/dist-packages (from requests<3.0,>=2.8.1->moviepy) (2024.8.30)\n",
            "Downloading PyVirtualDisplay-3.0-py3-none-any.whl (15 kB)\n",
            "Installing collected packages: pyvirtualdisplay\n",
            "Successfully installed pyvirtualdisplay-3.0\n",
            "Collecting gymnasium[accept-rom-license,atari,box2d,classic_control,mujoco,toy_text]\n",
            "  Downloading gymnasium-1.0.0-py3-none-any.whl.metadata (9.5 kB)\n",
            "\u001b[33mWARNING: gymnasium 1.0.0 does not provide the extra 'accept-rom-license'\u001b[0m\u001b[33m\n",
            "\u001b[0mRequirement already satisfied: numpy>=1.21.0 in /usr/local/lib/python3.10/dist-packages (from gymnasium[accept-rom-license,atari,box2d,classic_control,mujoco,toy_text]) (1.26.4)\n",
            "Requirement already satisfied: cloudpickle>=1.2.0 in /usr/local/lib/python3.10/dist-packages (from gymnasium[accept-rom-license,atari,box2d,classic_control,mujoco,toy_text]) (2.2.1)\n",
            "Requirement already satisfied: typing-extensions>=4.3.0 in /usr/local/lib/python3.10/dist-packages (from gymnasium[accept-rom-license,atari,box2d,classic_control,mujoco,toy_text]) (4.12.2)\n",
            "Collecting farama-notifications>=0.0.1 (from gymnasium[accept-rom-license,atari,box2d,classic_control,mujoco,toy_text])\n",
            "  Downloading Farama_Notifications-0.0.4-py3-none-any.whl.metadata (558 bytes)\n",
            "Collecting mujoco>=2.1.5 (from gymnasium[accept-rom-license,atari,box2d,classic_control,mujoco,toy_text])\n",
            "  Downloading mujoco-3.2.3-cp310-cp310-manylinux_2_17_x86_64.manylinux2014_x86_64.whl.metadata (44 kB)\n",
            "\u001b[2K     \u001b[90m━━━━━━━━━━━━━━━━━━━━━━━━━━━━━━━━━━━━━━━━\u001b[0m \u001b[32m44.4/44.4 kB\u001b[0m \u001b[31m3.4 MB/s\u001b[0m eta \u001b[36m0:00:00\u001b[0m\n",
            "\u001b[?25hRequirement already satisfied: imageio>=2.14.1 in /usr/local/lib/python3.10/dist-packages (from gymnasium[accept-rom-license,atari,box2d,classic_control,mujoco,toy_text]) (2.35.1)\n",
            "Requirement already satisfied: pygame>=2.1.3 in /usr/local/lib/python3.10/dist-packages (from gymnasium[accept-rom-license,atari,box2d,classic_control,mujoco,toy_text]) (2.6.1)\n",
            "Collecting ale-py>=0.9 (from gymnasium[accept-rom-license,atari,box2d,classic_control,mujoco,toy_text])\n",
            "  Downloading ale_py-0.10.1-cp310-cp310-manylinux_2_17_x86_64.manylinux2014_x86_64.whl.metadata (7.6 kB)\n",
            "Collecting box2d-py==2.3.5 (from gymnasium[accept-rom-license,atari,box2d,classic_control,mujoco,toy_text])\n",
            "  Downloading box2d-py-2.3.5.tar.gz (374 kB)\n",
            "\u001b[2K     \u001b[90m━━━━━━━━━━━━━━━━━━━━━━━━━━━━━━━━━━━━━━━━\u001b[0m \u001b[32m374.4/374.4 kB\u001b[0m \u001b[31m20.6 MB/s\u001b[0m eta \u001b[36m0:00:00\u001b[0m\n",
            "\u001b[?25h  Preparing metadata (setup.py) ... \u001b[?25l\u001b[?25hdone\n",
            "Requirement already satisfied: swig==4.* in /usr/local/lib/python3.10/dist-packages (from gymnasium[accept-rom-license,atari,box2d,classic_control,mujoco,toy_text]) (4.2.1)\n",
            "Requirement already satisfied: pillow>=8.3.2 in /usr/local/lib/python3.10/dist-packages (from imageio>=2.14.1->gymnasium[accept-rom-license,atari,box2d,classic_control,mujoco,toy_text]) (10.4.0)\n",
            "Requirement already satisfied: absl-py in /usr/local/lib/python3.10/dist-packages (from mujoco>=2.1.5->gymnasium[accept-rom-license,atari,box2d,classic_control,mujoco,toy_text]) (1.4.0)\n",
            "Requirement already satisfied: etils[epath] in /usr/local/lib/python3.10/dist-packages (from mujoco>=2.1.5->gymnasium[accept-rom-license,atari,box2d,classic_control,mujoco,toy_text]) (1.9.4)\n",
            "Collecting glfw (from mujoco>=2.1.5->gymnasium[accept-rom-license,atari,box2d,classic_control,mujoco,toy_text])\n",
            "  Downloading glfw-2.7.0-py2.py27.py3.py30.py31.py32.py33.py34.py35.py36.py37.py38-none-manylinux2014_x86_64.whl.metadata (5.4 kB)\n",
            "Requirement already satisfied: pyopengl in /usr/local/lib/python3.10/dist-packages (from mujoco>=2.1.5->gymnasium[accept-rom-license,atari,box2d,classic_control,mujoco,toy_text]) (3.1.7)\n",
            "Requirement already satisfied: fsspec in /usr/local/lib/python3.10/dist-packages (from etils[epath]->mujoco>=2.1.5->gymnasium[accept-rom-license,atari,box2d,classic_control,mujoco,toy_text]) (2024.6.1)\n",
            "Requirement already satisfied: importlib_resources in /usr/local/lib/python3.10/dist-packages (from etils[epath]->mujoco>=2.1.5->gymnasium[accept-rom-license,atari,box2d,classic_control,mujoco,toy_text]) (6.4.5)\n",
            "Requirement already satisfied: zipp in /usr/local/lib/python3.10/dist-packages (from etils[epath]->mujoco>=2.1.5->gymnasium[accept-rom-license,atari,box2d,classic_control,mujoco,toy_text]) (3.20.2)\n",
            "Downloading ale_py-0.10.1-cp310-cp310-manylinux_2_17_x86_64.manylinux2014_x86_64.whl (2.1 MB)\n",
            "\u001b[2K   \u001b[90m━━━━━━━━━━━━━━━━━━━━━━━━━━━━━━━━━━━━━━━━\u001b[0m \u001b[32m2.1/2.1 MB\u001b[0m \u001b[31m74.1 MB/s\u001b[0m eta \u001b[36m0:00:00\u001b[0m\n",
            "\u001b[?25hDownloading Farama_Notifications-0.0.4-py3-none-any.whl (2.5 kB)\n",
            "Downloading mujoco-3.2.3-cp310-cp310-manylinux_2_17_x86_64.manylinux2014_x86_64.whl (6.1 MB)\n",
            "\u001b[2K   \u001b[90m━━━━━━━━━━━━━━━━━━━━━━━━━━━━━━━━━━━━━━━━\u001b[0m \u001b[32m6.1/6.1 MB\u001b[0m \u001b[31m106.9 MB/s\u001b[0m eta \u001b[36m0:00:00\u001b[0m\n",
            "\u001b[?25hDownloading gymnasium-1.0.0-py3-none-any.whl (958 kB)\n",
            "\u001b[2K   \u001b[90m━━━━━━━━━━━━━━━━━━━━━━━━━━━━━━━━━━━━━━━━\u001b[0m \u001b[32m958.1/958.1 kB\u001b[0m \u001b[31m56.0 MB/s\u001b[0m eta \u001b[36m0:00:00\u001b[0m\n",
            "\u001b[?25hDownloading glfw-2.7.0-py2.py27.py3.py30.py31.py32.py33.py34.py35.py36.py37.py38-none-manylinux2014_x86_64.whl (211 kB)\n",
            "\u001b[2K   \u001b[90m━━━━━━━━━━━━━━━━━━━━━━━━━━━━━━━━━━━━━━━━\u001b[0m \u001b[32m211.8/211.8 kB\u001b[0m \u001b[31m20.5 MB/s\u001b[0m eta \u001b[36m0:00:00\u001b[0m\n",
            "\u001b[?25hBuilding wheels for collected packages: box2d-py\n",
            "  Building wheel for box2d-py (setup.py) ... \u001b[?25l\u001b[?25hdone\n",
            "  Created wheel for box2d-py: filename=box2d_py-2.3.5-cp310-cp310-linux_x86_64.whl size=2376102 sha256=699fc946ba294caa812a5590cda7ff35d8d4b2451d1ae08e003750580096a0c2\n",
            "  Stored in directory: /root/.cache/pip/wheels/db/8f/6a/eaaadf056fba10a98d986f6dce954e6201ba3126926fc5ad9e\n",
            "Successfully built box2d-py\n",
            "Installing collected packages: glfw, farama-notifications, box2d-py, gymnasium, ale-py, mujoco\n",
            "Successfully installed ale-py-0.10.1 box2d-py-2.3.5 farama-notifications-0.0.4 glfw-2.7.0 gymnasium-1.0.0 mujoco-3.2.3\n",
            "Collecting torchinfo\n",
            "  Downloading torchinfo-1.8.0-py3-none-any.whl.metadata (21 kB)\n",
            "Downloading torchinfo-1.8.0-py3-none-any.whl (23 kB)\n",
            "Installing collected packages: torchinfo\n",
            "Successfully installed torchinfo-1.8.0\n"
          ]
        }
      ],
      "source": [
        "# run this cell once per Colab session\n",
        "!apt update\n",
        "!apt-get install xvfb x11-utils\n",
        "!python -m pip install --upgrade swig\n",
        "!python -m pip install --upgrade pyvirtualdisplay moviepy\n",
        "!python -m pip install --upgrade gymnasium[accept-rom-license,atari,box2d,classic_control,mujoco,toy_text]\n",
        "!python -m pip install torchinfo"
      ]
    },
    {
      "cell_type": "code",
      "execution_count": 2,
      "metadata": {
        "colab": {
          "base_uri": "https://localhost:8080/"
        },
        "id": "fOo92DthbPPj",
        "outputId": "588b764d-31a4-4a49-cfe5-5300aa784a25"
      },
      "outputs": [
        {
          "output_type": "execute_result",
          "data": {
            "text/plain": [
              "<pyvirtualdisplay.display.Display at 0x7c63ce615c90>"
            ]
          },
          "metadata": {},
          "execution_count": 2
        }
      ],
      "source": [
        "# import necessary libraries\n",
        "import numpy as np\n",
        "import torch\n",
        "import torch.nn as nn\n",
        "from torch.utils.data import Dataset, DataLoader\n",
        "import matplotlib.pyplot as plt\n",
        "import gymnasium as gym\n",
        "from gymnasium import spaces\n",
        "from gymnasium.wrappers import RecordEpisodeStatistics, RecordVideo\n",
        "from collections import deque\n",
        "from pyvirtualdisplay import Display\n",
        "import moviepy.editor as mpy\n",
        "from torchinfo import summary\n",
        "import random\n",
        "import ale_py\n",
        "\n",
        "gym.register_envs(ale_py)\n",
        "# create and start virtual display\n",
        "display = Display(backend='xvfb')\n",
        "display.start()"
      ]
    },
    {
      "cell_type": "markdown",
      "metadata": {
        "id": "5UA45wQ-NqEQ"
      },
      "source": [
        "#### Use GPU if available"
      ]
    },
    {
      "cell_type": "code",
      "execution_count": 3,
      "metadata": {
        "colab": {
          "base_uri": "https://localhost:8080/"
        },
        "id": "DLFghlPCBcVn",
        "outputId": "a8d0e663-0c00-4ac5-bd8d-e3cb21957782"
      },
      "outputs": [
        {
          "output_type": "execute_result",
          "data": {
            "text/plain": [
              "True"
            ]
          },
          "metadata": {},
          "execution_count": 3
        }
      ],
      "source": [
        "device = 'cpu'\n",
        "if torch.cuda.is_available():\n",
        "  device = 'cuda'\n",
        "  torch.set_default_device(torch.device(device))\n",
        "\n",
        "torch.cuda.is_available()"
      ]
    },
    {
      "cell_type": "code",
      "execution_count": 4,
      "metadata": {
        "colab": {
          "base_uri": "https://localhost:8080/"
        },
        "id": "6_z_qvclBhng",
        "outputId": "dc1da70e-2981-4138-9e4b-4dd277675975"
      },
      "outputs": [
        {
          "output_type": "execute_result",
          "data": {
            "text/plain": [
              "device(type='cuda', index=0)"
            ]
          },
          "metadata": {},
          "execution_count": 4
        }
      ],
      "source": [
        "torch.get_default_device()"
      ]
    },
    {
      "cell_type": "markdown",
      "metadata": {
        "id": "upKQxvfEOQCU"
      },
      "source": [
        "#### Decorator to Add Functions to Classes"
      ]
    },
    {
      "cell_type": "code",
      "execution_count": 5,
      "metadata": {
        "id": "jH7MfPfzOApV"
      },
      "outputs": [],
      "source": [
        "# Register functions as methods\n",
        "# in classes\n",
        "def add_to_class(Class):\n",
        "  def wrapper(obj):\n",
        "    setattr(Class, obj.__name__, obj)\n",
        "  return wrapper"
      ]
    },
    {
      "cell_type": "markdown",
      "metadata": {
        "id": "LggRaEVhNxym"
      },
      "source": [
        "Seed to Test Correct Implementation"
      ]
    },
    {
      "cell_type": "code",
      "execution_count": null,
      "metadata": {
        "id": "T4YiLEfLpg8d"
      },
      "outputs": [],
      "source": [
        "#seed = 12345\n",
        "#random.seed(seed)\n",
        "#np.random.seed(seed)\n",
        "#torch.manual_seed(seed)\n",
        "#if torch.cuda.is_available():\n",
        "#  torch.backends.cudnn.deterministic = True"
      ]
    },
    {
      "cell_type": "code",
      "execution_count": 20,
      "metadata": {
        "id": "ovm_sE6mc4tS"
      },
      "outputs": [],
      "source": [
        "seed=None"
      ]
    },
    {
      "cell_type": "markdown",
      "metadata": {
        "id": "8GJugLIE_084"
      },
      "source": [
        "## Class to Store Rollout\n",
        "Creates a dataset with the rollout data which will be passed to a Dataloader to create the mini-batches to update the actor and critic networks.\n",
        "\n",
        "Source: Ehsan Kamalinejad. (2023). PPO Training. https://colab.research.google.com/drive/1AmdtDNd_DUVRJlluaKIGT19BzBZ7loVZ?usp=sharing&authuser=1#scrollTo=56b3d5ca"
      ]
    },
    {
      "cell_type": "code",
      "execution_count": 6,
      "metadata": {
        "id": "q6L4yL9UN4Jo"
      },
      "outputs": [],
      "source": [
        "class Storage(Dataset):\n",
        "    def __init__(self, rollout, advantages, returns, envs):\n",
        "        # fill in the storage and flatten the parallel trajectories\n",
        "        self.observations = rollout['obs'].reshape((-1,) +  envs.single_observation_space.shape)\n",
        "        self.logprobs = rollout['logprobs'].reshape(-1)\n",
        "        self.actions = rollout['actions'].reshape((-1,) +  envs.single_action_space.shape).long()\n",
        "        self.advantages = advantages.reshape(-1)\n",
        "        self.returns = returns.reshape(-1)\n",
        "\n",
        "    def __getitem__(self, ix: int):\n",
        "        item = [\n",
        "            self.observations[ix],\n",
        "            self.logprobs[ix],\n",
        "            self.actions[ix],\n",
        "            self.advantages[ix],\n",
        "            self.returns[ix]\n",
        "        ]\n",
        "        return item\n",
        "\n",
        "    def __len__(self) -> int:\n",
        "        return len(self.observations)"
      ]
    },
    {
      "cell_type": "markdown",
      "metadata": {
        "id": "0He5KKOoTN0y"
      },
      "source": [
        "## Modified Value Network (Critic) & Policy Network (Actor)\n",
        "Use Tanh activation and orthogonal weight initilisation over Xavier weight initilisation to improve returns per episode.\n",
        "\n",
        "Source: Huang, Shengyi; Dossa, Rousslan Fernand Julien; Raffin, Antonin; Kanervisto, Anssi; Wang, Weixun. (2022). The 37 Implementation Details of Proximal Policy Optimization. https://iclr-blog-track.github.io/2022/03/25/ppo-implementation-details/"
      ]
    },
    {
      "cell_type": "markdown",
      "metadata": {
        "id": "NKqz3LqbXMOO"
      },
      "source": [
        "### Value Network"
      ]
    },
    {
      "cell_type": "code",
      "execution_count": 7,
      "metadata": {
        "id": "xgXYB1R7OXLF"
      },
      "outputs": [],
      "source": [
        "class PPOVNetwork(nn.Module):\n",
        "    def __init__(self,\n",
        "                 in_channels,\n",
        "                 hidden_sizes,\n",
        "                 output_size,\n",
        "                 learning_rate):\n",
        "        super().__init__()\n",
        "\n",
        "        # create network layers\n",
        "        layers = nn.ModuleList()\n",
        "\n",
        "        # input layers\n",
        "        layer = self.init_weights((nn.Linear(in_channels, hidden_sizes[0])))\n",
        "        layers.append(layer)\n",
        "\n",
        "        layers.append(nn.Tanh())\n",
        "\n",
        "        # hidden layers\n",
        "        for i in range(len(hidden_sizes)-1):\n",
        "            layer = self.init_weights(nn.Linear(hidden_sizes[i], hidden_sizes[i+1]))\n",
        "            activation = nn.Tanh()\n",
        "            layers.append(layer)\n",
        "            layers.append(activation)\n",
        "\n",
        "        # output layers\n",
        "        layers.append(self.init_weights(nn.Linear(hidden_sizes[-1], output_size), std=1.0))\n",
        "\n",
        "        # combine layers into feed-forward network\n",
        "        self.net = nn.Sequential(*layers)\n",
        "\n",
        "        # select loss function and optimizer\n",
        "        # note: original paper uses modified MSE loss and RMSprop\n",
        "        self.criterion = nn.MSELoss()\n",
        "        self.optimizer = torch.optim.Adam(self.net.parameters(),\n",
        "                                          lr=learning_rate)\n",
        "\n",
        "        if torch.cuda.is_available():\n",
        "          self.device = torch.device('cuda:0')\n",
        "        else:\n",
        "          self.device = torch.device('cpu')\n",
        "\n",
        "        self.to(self.device)\n",
        "\n",
        "    def forward(self, x):\n",
        "        # convert input to torch format\n",
        "        if not torch.is_tensor(x):# or x.dtype != torch.float:\n",
        "            x = torch.tensor(x, dtype=torch.float)\n",
        "        x = x.to(self.device)\n",
        "        # return output of Q-network\n",
        "        return self.net(x)\n",
        "\n",
        "    def update(self, value_loss):\n",
        "        # update network weights for a minibatch of inputs and targets:\n",
        "        self.optimizer.zero_grad()\n",
        "        loss = value_loss\n",
        "        loss.backward()\n",
        "        self.optimizer.step()\n",
        "\n",
        "    def copy_from(self, qnetwork):\n",
        "        # copy weights from another Q-network\n",
        "        self.net.load_state_dict(qnetwork.net.state_dict())"
      ]
    },
    {
      "cell_type": "markdown",
      "metadata": {
        "id": "0gIZF9gAXIXM"
      },
      "source": [
        "### Policy Network"
      ]
    },
    {
      "cell_type": "code",
      "execution_count": 8,
      "metadata": {
        "id": "URMqoJ5cPM9R"
      },
      "outputs": [],
      "source": [
        "class PPOPolicyNetwork(nn.Module):\n",
        "    def __init__(self,\n",
        "                 input_size,\n",
        "                 hidden_sizes,\n",
        "                 output_size,\n",
        "                 learning_rate):\n",
        "        super().__init__()\n",
        "        # create network layers\n",
        "        layers = nn.ModuleList()\n",
        "\n",
        "        # input layers\n",
        "        layer = self.init_weights((nn.Linear(input_size, hidden_sizes[0])))\n",
        "        layers.append(layer)\n",
        "\n",
        "        layers.append(nn.Tanh())\n",
        "\n",
        "        # hidden layers\n",
        "        for i in range(len(hidden_sizes)-1):\n",
        "            layer = self.init_weights(nn.Linear(hidden_sizes[i], hidden_sizes[i+1]))\n",
        "            activation = nn.Tanh()\n",
        "            layers.append(layer)\n",
        "            layers.append(activation)\n",
        "\n",
        "        # output layers\n",
        "        # outputs a 1D tensor of size 1 with the Q value\n",
        "        layers.append(self.init_weights(nn.Linear(hidden_sizes[-1], output_size), std=1.0))\n",
        "\n",
        "        # combine layers into feed-forward network\n",
        "        self.net = nn.Sequential(*layers)\n",
        "\n",
        "        # select loss function and optimizer\n",
        "        # note: original paper uses modified MSE loss and RMSprop\n",
        "        self.criterion = nn.MSELoss()\n",
        "        self.optimizer = torch.optim.Adam(self.net.parameters(),\n",
        "                                          lr=learning_rate)\n",
        "\n",
        "        if torch.cuda.is_available():\n",
        "          self.device = torch.device('cuda:0')\n",
        "        else:\n",
        "          self.device = torch.device('cpu')\n",
        "\n",
        "        self.to(self.device)\n",
        "\n",
        "    def forward(self, x):\n",
        "        # convert input to torch format\n",
        "        if not torch.is_tensor(x) :#or x.dtype != torch.float:\n",
        "            x = torch.tensor(x, dtype=torch.float)\n",
        "        # return output of policy network\n",
        "        x = x.to(self.device)\n",
        "        return self.net(x)\n",
        "\n",
        "    def update(self, policy_loss, entropy_loss):\n",
        "        # update network weights for a given transition or trajectory\n",
        "        self.optimizer.zero_grad()\n",
        "        loss = policy_loss + entropy_loss\n",
        "        loss.backward()\n",
        "        self.optimizer.step()"
      ]
    },
    {
      "cell_type": "markdown",
      "metadata": {
        "id": "fl_gXIs0Pn9Z"
      },
      "source": [
        "### Orthogonal Weight Initilisation"
      ]
    },
    {
      "cell_type": "code",
      "execution_count": 9,
      "metadata": {
        "id": "BOuqtUSOPbPi"
      },
      "outputs": [],
      "source": [
        "@add_to_class(PPOPolicyNetwork)\n",
        "def init_weights(self, layer, std=np.sqrt(2), bias_const=0):\n",
        "    torch.nn.init.orthogonal_(layer.weight, std)\n",
        "    torch.nn.init.constant_(layer.bias, bias_const)\n",
        "    return layer"
      ]
    },
    {
      "cell_type": "code",
      "execution_count": 10,
      "metadata": {
        "id": "DQyV4QbmPcC0"
      },
      "outputs": [],
      "source": [
        "@add_to_class(PPOVNetwork)\n",
        "def init_weights(self, layer, std=np.sqrt(2), bias_const=0):\n",
        "    torch.nn.init.orthogonal_(layer.weight, std)\n",
        "    torch.nn.init.constant_(layer.bias, bias_const)\n",
        "    return layer"
      ]
    },
    {
      "cell_type": "code",
      "execution_count": null,
      "metadata": {
        "id": "l-tgc6xcgzJy"
      },
      "outputs": [],
      "source": [
        "test_env = gym.vector.SyncVectorEnv([lambda: gym.make(\"ALE/MsPacman-ram-v5\") for _ in range(5)])\n",
        "next_obs = test_env.reset()[0].astype(np.float32)\n",
        "next_obs"
      ]
    },
    {
      "cell_type": "markdown",
      "metadata": {
        "id": "8o4yX1X-VnlI"
      },
      "source": [
        "### Create a Single Environment to Add to the Vectorized Enirovnment\n",
        "\n",
        "Source: Ehsan Kamalinejad. (2023). PPO Training. https://colab.research.google.com/drive/1AmdtDNd_DUVRJlluaKIGT19BzBZ7loVZ?usp=sharing&authuser=1#scrollTo=56b3d5ca\n",
        "\n",
        "Source: Huang, Shengyi; Dossa, Rousslan Fernand Julien; Raffin, Antonin; Kanervisto, Anssi; Wang, Weixun. (2022). The 37 Implementation Details of Proximal Policy Optimization. https://iclr-blog-track.github.io/2022/03/25/ppo-implementation-details/"
      ]
    },
    {
      "cell_type": "code",
      "execution_count": 11,
      "metadata": {
        "id": "PdtGipkTpbP8"
      },
      "outputs": [],
      "source": [
        "def make_env(name, seed=None):\n",
        "    env = gym.make(name, render_mode='rgb_array_list')\n",
        "    env = gym.wrappers.RecordEpisodeStatistics(env)\n",
        "    if seed is not None:\n",
        "        env.action_space.seed(seed)\n",
        "        env.observation_space.seed(seed)\n",
        "    return env"
      ]
    },
    {
      "cell_type": "markdown",
      "metadata": {
        "id": "ho_Wh2sBXEfA"
      },
      "source": [
        "### PPO Agent"
      ]
    },
    {
      "cell_type": "code",
      "execution_count": 12,
      "metadata": {
        "id": "-czZ5puN2ENN"
      },
      "outputs": [],
      "source": [
        "from os import stat_result\n",
        "class PPOAgent():\n",
        "    def __init__(self,\n",
        "                 env_name='CartPole-v1',\n",
        "                 n_envs=2,\n",
        "                 gamma=0.99,\n",
        "                 hidden_sizes=(32, 32),\n",
        "                 learning_rate=0.001,\n",
        "                 batch_size=32,\n",
        "                 max_steps=200,\n",
        "                 lam=0.95,\n",
        "                 update_epochs=4,\n",
        "                 clip_epsilon=0.2,\n",
        "                 ent_coef=0.01,\n",
        "                 max_grad_norm=0.5,\n",
        "                 target_kl=None,\n",
        "                 num_returns_to_avg=3,\n",
        "                 num_episodes_to_avg=23,\n",
        "                 total_timesteps=100000):\n",
        "\n",
        "        self.n_envs = n_envs\n",
        "        self.env_name = env_name\n",
        "        self.envs = gym.vector.SyncVectorEnv([lambda: make_env(env_name, seed) for _ in range(self.n_envs)])\n",
        "\n",
        "        # check if the state space has correct type\n",
        "        #continuous = isinstance(env.observation_space, spaces.Box) and len(env.observation_space.shape) == 1\n",
        "        #assert continuous, 'Observation space must be continuous with shape (n,)'\n",
        "        self.state_dims = self.envs.single_observation_space.shape[0]\n",
        "        #self.state_dims = env.observation_space.n\n",
        "\n",
        "        # check if the action space has correct type\n",
        "        assert isinstance(self.envs.action_space, spaces.MultiDiscrete), 'Action space must be discrete'\n",
        "        self.num_actions = self.envs.single_action_space.n\n",
        "\n",
        "        # create actor & critic network\n",
        "        self.actor = PPOPolicyNetwork(self.state_dims, hidden_sizes, self.num_actions, learning_rate)\n",
        "        self.critic = PPOVNetwork(self.state_dims, hidden_sizes, 1, learning_rate)\n",
        "\n",
        "\n",
        "        self.lr = learning_rate\n",
        "        self.max_steps = max_steps\n",
        "        self.gamma = gamma\n",
        "        self.lam = lam\n",
        "        self.update_epochs = update_epochs\n",
        "        self.clip_epsilon = clip_epsilon\n",
        "        self.ent_coef = ent_coef\n",
        "        self.max_grad_norm = max_grad_norm\n",
        "        self.num_returns_to_avg = num_returns_to_avg\n",
        "        self.num_episodes_to_avg = num_episodes_to_avg\n",
        "        self.total_timesteps = total_timesteps\n",
        "        self.batch_size = batch_size\n",
        "\n",
        "    def policy(self, state, stochastic=True):\n",
        "        # convert state to torch format\n",
        "        if not torch.is_tensor(state):\n",
        "            state = torch.tensor(state, dtype=torch.float)\n",
        "\n",
        "        # calculate action probabilities\n",
        "        logits = self.actor(state).detach()\n",
        "        dist = torch.distributions.Categorical(logits=logits)\n",
        "        if stochastic:\n",
        "            # sample action using action probabilities\n",
        "            return dist.sample().item()\n",
        "        else:\n",
        "            # select action with the highest probability\n",
        "            # note: we ignore breaking ties randomly (low chance of happening)\n",
        "            return dist.probs.argmax().item()\n",
        "\n",
        "    def train(self):\n",
        "        # train the agent for a number of updates/episodes\n",
        "        self.num_steps = 0\n",
        "\n",
        "        num_updates = self.total_timesteps//self.batch_size\n",
        "\n",
        "        self.all_returns = []\n",
        "\n",
        "        for update in range(1, num_updates):\n",
        "          cur_obs = torch.tensor(self.envs.reset()[0], dtype=torch.float32)\n",
        "          cur_done = torch.zeros(self.n_envs)\n",
        "\n",
        "          rollout = self.create_rollout(cur_obs, cur_done)\n",
        "\n",
        "          cur_done = rollout['cur_done']\n",
        "          cur_obs = rollout['cur_obs']\n",
        "          rewards = rollout['rewards']\n",
        "          dones = rollout['dones']\n",
        "          values = rollout['values']\n",
        "\n",
        "          advantage, returns = self.generalised_advantage_estimation(cur_obs, rewards, dones, values)\n",
        "          dataset = Storage(rollout, advantage, returns, self.envs)\n",
        "\n",
        "          kwargs = {'generator': torch.Generator(device=torch.get_default_device())} if torch.cuda.is_available() else {}\n",
        "\n",
        "          train_loader = DataLoader(dataset,\n",
        "                                    batch_size=self.batch_size,\n",
        "                                    shuffle=True,\n",
        "                                    **kwargs)\n",
        "\n",
        "          self.ppo_update(train_loader, update, num_updates)\n",
        "\n",
        "\n",
        "          if len(self.all_returns) > self.num_returns_to_avg:\n",
        "            print(f\"\\rUpdate {update}/{num_updates} Avg episode reward for {self.num_returns_to_avg} eps: {np.mean(self.all_returns[-self.num_returns_to_avg:]):.2f}\", end='')\n",
        "          #print(f'Update{update}')\n",
        "        self.envs.close()\n",
        "\n",
        "    def save(self, path):\n",
        "        # save network weights to a file\n",
        "        torch.save(self.agent.state_dict(), path)\n",
        "\n",
        "    def load(self, path):\n",
        "        # load network weights from a file\n",
        "        self.agent.load_state_dict(torch.load(path))"
      ]
    },
    {
      "cell_type": "markdown",
      "metadata": {
        "id": "BFC0-tVha_gL"
      },
      "source": [
        "### Method to Get Action, Log Probabilities and Value Function Estimate\n",
        "Source: Ehsan Kamalinejad. (2023). PPO Training. https://colab.research.google.com/drive/1AmdtDNd_DUVRJlluaKIGT19BzBZ7loVZ?usp=sharing&authuser=1#scrollTo=56b3d5ca"
      ]
    },
    {
      "cell_type": "code",
      "execution_count": 13,
      "metadata": {
        "id": "igEw1FoEafIj"
      },
      "outputs": [],
      "source": [
        "@add_to_class(PPOAgent)\n",
        "def get_action_and_value(self, state, action=None):\n",
        "    if not torch.is_tensor(state):# or state.dtype != torch.float  :\n",
        "        state = torch.tensor(state, dtype=torch.float)\n",
        "\n",
        "    state = state.to(self.actor.device)\n",
        "    #print(state)\n",
        "    logits = self.actor(state).detach()\n",
        "    probs = torch.distributions.Categorical(logits=logits)\n",
        "    if action is None:\n",
        "        action = probs.sample()\n",
        "\n",
        "    return action, probs.log_prob(action), probs.entropy(), self.critic(state)"
      ]
    },
    {
      "cell_type": "markdown",
      "metadata": {
        "id": "s1yrEnB3cMOg"
      },
      "source": [
        "## Calculate the Generalised Advantage Estimation (GAE)\n",
        "\n",
        "Calculate the n-step advantage estimate to make an estimate of TD(λ). The TD(\\lambda) estimate will act as the target for the value function network to lower the variance of its estimates & the estimates of the policy network.<br>\n",
        "\n",
        "Delta is the one step advantage estimate. <br>\n",
        "$delta/td_{error}  = R_{t} + {γ}V_{t+1} - V_{t} $ <br>\n",
        "\n",
        "$A^{GAE} (S_t, A_t ) = \\sum^{∞}_{l=0}{(λγ)}^{l}δ_{t+l} $\n",
        "\n",
        "\n",
        "\n",
        "\n",
        "Source: Ehsan Kamalinejad. (2023). PPO Training. https://colab.research.google.com/drive/1AmdtDNd_DUVRJlluaKIGT19BzBZ7loVZ?usp=sharing&authuser=1#scrollTo=56b3d5c\n",
        "\n",
        "Source: Miguel Morales. (2020). Grokking Deep Reinforcement Learning. Chapter 11 Policy-gradient and Actor-Critic Methods"
      ]
    },
    {
      "cell_type": "code",
      "execution_count": 14,
      "metadata": {
        "id": "E-ICV839bQFX"
      },
      "outputs": [],
      "source": [
        "@add_to_class(PPOAgent)\n",
        "def generalised_advantage_estimation(self, cur_obs, rewards, dones, values):\n",
        "  advantages = torch.zeros((self.n_envs, self.max_steps))\n",
        "  last_advantage = 0\n",
        "\n",
        "  # the value after the last step\n",
        "  with torch.no_grad():\n",
        "      last_value = self.critic(cur_obs).reshape(1, -1)\n",
        "\n",
        "  # reverse recursive to calculate advantages based on the delta formula\n",
        "  for t in reversed(range(self.max_steps)):\n",
        "      # mask if episode completed after step t\n",
        "      mask = 1.0 - dones[:, t]\n",
        "      last_value = last_value * mask\n",
        "      last_advantage = last_advantage * mask\n",
        "      delta = rewards[:, t] + self.gamma * last_value - values[:, t]\n",
        "      last_advantage = delta + self.gamma * self.lam * last_advantage\n",
        "      advantages[:, t] = last_advantage\n",
        "      last_value = values[:, t]\n",
        "\n",
        "  advantages = advantages\n",
        "  returns = advantages + values\n",
        "\n",
        "  return advantages, returns"
      ]
    },
    {
      "cell_type": "markdown",
      "metadata": {
        "id": "DRklDYKwrJF4"
      },
      "source": [
        "## Create Rollout\n",
        "Create a new rollout everytime this method is called by stepping through the environments and collecting observations, actions, rewards, termination statuses and values after discarding the previous rollout.\n",
        "\n",
        "Source: Ehsan Kamalinejad. (2023). PPO Training. https://colab.research.google.com/drive/1AmdtDNd_DUVRJlluaKIGT19BzBZ7loVZ?usp=sharing&authuser=1#scrollTo=56b3d5ca"
      ]
    },
    {
      "cell_type": "code",
      "execution_count": 15,
      "metadata": {
        "id": "teBrxohMcRaA"
      },
      "outputs": [],
      "source": [
        "@add_to_class(PPOAgent)\n",
        "# starting obs, current termination status, track all returns\n",
        "def create_rollout(self, cur_observation, cur_done):\n",
        "  \"\"\"\n",
        "  create trajectories from all environments and store them\n",
        "  \"\"\"\n",
        "  #cur_observation = cur_observation.to(dtype=torch.float)\n",
        "  # empty tensors to store the rollouts\n",
        "  observations = torch.zeros((self.n_envs, self.max_steps ) + self.envs.single_observation_space.shape, dtype=torch.float)\n",
        "  actions = torch.zeros((self.n_envs, self.max_steps) + self.envs.single_action_space.shape, dtype=torch.float)\n",
        "  logprobs = torch.zeros((self.n_envs, self.max_steps),dtype=torch.float )\n",
        "  rewards = torch.zeros((self.n_envs,self.max_steps), dtype=torch.float)\n",
        "  dones = torch.zeros((self.n_envs, self.max_steps), dtype=torch.float)\n",
        "  values = torch.zeros((self.n_envs, self.max_steps), dtype=torch.float)\n",
        "\n",
        "  for t in range(self.max_steps):\n",
        "      observations[:,t] = cur_observation\n",
        "      dones[:,t] = cur_done\n",
        "      # give observation to the model and collect action, logprobs of actions, entropy and value\n",
        "      with torch.no_grad():\n",
        "          action, logprob, entropy, value = self.get_action_and_value(cur_observation)\n",
        "\n",
        "      values[:,t] = value.flatten()\n",
        "      actions[:,t] = action\n",
        "      logprobs[:,t] = logprob\n",
        "\n",
        "      # apply the action to the env and collect observation and reward\n",
        "      cur_observation, reward, cur_done, _, info = self.envs.step(action.cpu().numpy())\n",
        "      is_done = cur_done\n",
        "      rewards[:,t] = torch.tensor(reward).view(-1)\n",
        "      cur_observation = torch.tensor(cur_observation, dtype=torch.float32)\n",
        "      cur_done = torch.tensor(cur_done)\n",
        "\n",
        "      # if an episode ended store its total reward for progress report\n",
        "      #if is_done.any():\n",
        "      #  pos = np.where(is_done == True)\n",
        "      #  if info:\n",
        "      #    for item in info:\n",
        "      #      if item and \"episode\" in item:\n",
        "      #        #print(f\"Reward at end: {info['episode']['r'][pos]}\")\n",
        "      #        self.all_returns = self.all_returns + list(info['episode']['r'][pos])\n",
        "      #        break\n",
        "\n",
        "  self.all_returns.append(rewards.sum(dim=1).mean().cpu().numpy())\n",
        "\n",
        "  # create the rollout storage\n",
        "  rollout = {\n",
        "      'cur_obs': cur_observation,\n",
        "      'cur_done': cur_done,\n",
        "      'obs': observations,\n",
        "      'actions': actions,\n",
        "      'logprobs': logprobs,\n",
        "      'values': values,\n",
        "      'dones': dones,\n",
        "      'rewards': rewards\n",
        "  }\n",
        "\n",
        "  return rollout"
      ]
    },
    {
      "cell_type": "markdown",
      "metadata": {
        "id": "u_5F939Qcwb8"
      },
      "source": [
        "## Clipping the Policy Objective\n",
        "\n",
        "Limits the changes to the policy with each optimisation step to reduce variance of the policy when a change in the environment occurs. <br>\n",
        "\n",
        "Source: Ehsan Kamalinejad. (2023). PPO Training. https://colab.research.google.com/drive/1AmdtDNd_DUVRJlluaKIGT19BzBZ7loVZ?usp=sharing&authuser=1#scrollTo=56b3d5ca <br>\n",
        "\n",
        "Source: Miguel Morales. (2020). Grokking Deep Reinforcement Learning. Chapter 11 Policy-gradient and Actor-Critic Methods\n",
        "\n",
        "Source: Huang, Shengyi; Dossa, Rousslan Fernand Julien; Raffin, Antonin; Kanervisto, Anssi; Wang, Weixun. (2022). The 37 Implementation Details of Proximal Policy Optimization. https://iclr-blog-track.github.io/2022/03/25/ppo-implementation-details/"
      ]
    },
    {
      "cell_type": "code",
      "execution_count": 16,
      "metadata": {
        "id": "L6aUVxYhcw1e"
      },
      "outputs": [],
      "source": [
        "@add_to_class(PPOAgent)\n",
        "def loss_clip(self, mb_oldlogporb, mb_newlogprob, mb_advantages):\n",
        "\n",
        "  # ratio between new and old policy\n",
        "  ratio = torch.exp(mb_newlogprob - mb_oldlogporb)\n",
        "  policy_loss = -mb_advantages * ratio\n",
        "\n",
        "  # clipped policy gradient loss enforces closeness\n",
        "  clipped_loss = -mb_advantages * torch.clamp(ratio, 1 - self.clip_epsilon, 1 + self.clip_epsilon)\n",
        "  pessimistic_loss = torch.max(policy_loss, clipped_loss).mean()\n",
        "  return pessimistic_loss\n"
      ]
    },
    {
      "cell_type": "markdown",
      "metadata": {
        "id": "9MSCZPBUeseq"
      },
      "source": [
        "## Calculating the Loss of the Value Function\n",
        "\n",
        "Use the previously calculates GAE as a TD(λ) estimate to train the critic networks.<br>\n",
        "$mb\\_oldreturns (TD(λ)) = advantages + values $\n",
        "\n",
        "Source: Ehsan Kamalinejad. (2023). PPO Training. https://colab.research.google.com/drive/1AmdtDNd_DUVRJlluaKIGT19BzBZ7loVZ?usp=sharing&authuser=1#scrollTo=56b3d5ca"
      ]
    },
    {
      "cell_type": "code",
      "execution_count": 17,
      "metadata": {
        "id": "XwSufM36dSWu"
      },
      "outputs": [],
      "source": [
        "@add_to_class(PPOAgent)\n",
        "def loss_vf(self, mb_oldreturns, mb_newvalues):\n",
        "    mb_newvalues = mb_newvalues.view(-1)\n",
        "    loss = 0.5 * ((mb_newvalues - mb_oldreturns) ** 2).mean()\n",
        "    return loss"
      ]
    },
    {
      "cell_type": "markdown",
      "metadata": {
        "id": "CdkmJwpipivL"
      },
      "source": [
        "## Mini-batch Updates\n",
        "Break the rollout collected into mini-batches of the same size to compute the gradients and losses and finally global gradient clipping on both the policy and value gradients.\n",
        "\n",
        "Source: Source: Ehsan Kamalinejad. (2023). PPO Training. https://colab.research.google.com/drive/1AmdtDNd_DUVRJlluaKIGT19BzBZ7loVZ?usp=sharing&authuser=1#scrollTo=56b3d5ca\n",
        "\n",
        "Source: Source: Huang, Shengyi; Dossa, Rousslan Fernand Julien; Raffin, Antonin; Kanervisto, Anssi; Wang, Weixun. (2022). The 37 Implementation Details of Proximal Policy Optimization. https://iclr-blog-track.github.io/2022/03/25/ppo-implementation-details/"
      ]
    },
    {
      "cell_type": "code",
      "execution_count": 18,
      "metadata": {
        "id": "8P83AMaqdjQU"
      },
      "outputs": [],
      "source": [
        "@add_to_class(PPOAgent)\n",
        "def ppo_update(self, trainloader, update, num_updates):\n",
        "\n",
        "  # linearly shrink the learning rate from the initial lr to zero\n",
        "  # for both the actor and critic networks\n",
        "  frac = 1.0 - (update - 1.0) / num_updates\n",
        "  self.actor.optimizer.param_groups[0][\"lr\"] = frac * self.lr\n",
        "  self.critic.optimizer.param_groups[0][\"lr\"] = frac * self.lr\n",
        "\n",
        "  # update loop\n",
        "  for epoch in range(self.update_epochs):\n",
        "      for batch in trainloader:\n",
        "          mb_observations, mb_logprobs, mb_actions, mb_advantages, mb_returns = batch\n",
        "\n",
        "          # calculate the distribution of actions through the updated model revisiting the old trajectories\n",
        "          _, mb_newlogprob, mb_entropy, mb_newvalues = self.get_action_and_value(mb_observations, mb_actions)\n",
        "\n",
        "          policy_loss = self.loss_clip(mb_logprobs, mb_newlogprob, mb_advantages)\n",
        "\n",
        "          value_loss = self.loss_vf(mb_returns, mb_newvalues)\n",
        "          self.critic.update(value_loss)\n",
        "\n",
        "          # average entory of the action space\n",
        "          entropy_loss = mb_entropy.mean()\n",
        "\n",
        "          self.actor.update(policy_loss.clone().detach().requires_grad_(True), entropy_loss.clone().detach().requires_grad_(True))\n",
        "\n",
        "          # extra clipping of the gradients to avoid overshoots\n",
        "          nn.utils.clip_grad_norm_(self.actor.parameters(), self.max_grad_norm)\n",
        "          nn.utils.clip_grad_norm_(self.critic.parameters(), self.max_grad_norm)\n"
      ]
    },
    {
      "cell_type": "markdown",
      "metadata": {
        "id": "8U_vv1BXyGKZ"
      },
      "source": [
        "### Test Implementation on CartPole Env"
      ]
    },
    {
      "cell_type": "code",
      "execution_count": null,
      "metadata": {
        "id": "ffpKdwBPaOGV"
      },
      "outputs": [],
      "source": [
        "env_name = 'CartPole-v1'\n",
        "n_envs = 32\n",
        "gamma = 0.99\n",
        "hidden_sizes = (64, 64, 64)\n",
        "learning_rate = 0.001\n",
        "batch_size = 32\n",
        "max_steps = 64\n",
        "lam = 0.95\n",
        "update_epochs = 2\n",
        "clip_epsilon = 0.2\n",
        "ent_coef = 0.01\n",
        "max_grad_norm = 0.5\n",
        "num_returns_to_avg = 3\n",
        "num_episodes_to_avg = 23\n",
        "total_timesteps = 30000\n",
        "\n",
        "agent = PPOAgent(\n",
        "    env_name = env_name,\n",
        "    n_envs = n_envs,\n",
        "    gamma = gamma,\n",
        "    hidden_sizes = hidden_sizes,\n",
        "    learning_rate = learning_rate,\n",
        "    batch_size = batch_size,\n",
        "    max_steps = max_steps,\n",
        "    lam = lam,\n",
        "    update_epochs = update_epochs,\n",
        "    clip_epsilon = clip_epsilon,\n",
        "    ent_coef = ent_coef,\n",
        "    max_grad_norm = max_grad_norm,\n",
        "    num_returns_to_avg = num_returns_to_avg,\n",
        "    num_episodes_to_avg = num_episodes_to_avg,\n",
        "    total_timesteps = total_timesteps\n",
        ")\n"
      ]
    },
    {
      "cell_type": "code",
      "execution_count": null,
      "metadata": {
        "colab": {
          "background_save": true,
          "base_uri": "https://localhost:8080/"
        },
        "id": "_D3uYTkHr0Y2",
        "outputId": "bbdce20c-df9a-4eb3-9dde-7047d5393baa"
      },
      "outputs": [
        {
          "name": "stdout",
          "output_type": "stream",
          "text": [
            "Update 936/937 Avg episode reward for 3 eps: 12.33"
          ]
        }
      ],
      "source": [
        "agent.train()"
      ]
    },
    {
      "cell_type": "markdown",
      "metadata": {
        "id": "TDq2jJDtm8zu"
      },
      "source": [
        "## Plot Rewards"
      ]
    },
    {
      "cell_type": "code",
      "execution_count": null,
      "metadata": {
        "colab": {
          "background_save": true
        },
        "id": "CBodPdwsd6Fp",
        "outputId": "20303b68-9313-4430-c6de-20727b5195dd"
      },
      "outputs": [
        {
          "name": "stdout",
          "output_type": "stream",
          "text": [
            "mean reward: 27.04092071611253\n",
            "std reward: 12.088478722418243\n",
            "max reward: 64.0\n",
            "converge mean reward: 29.0\n"
          ]
        },
        {
          "data": {
            "image/png": "[encoded data removed]",
            "text/plain": [
              "<Figure size 640x480 with 1 Axes>"
            ]
          },
          "metadata": {},
          "output_type": "display_data"
        }
      ],
      "source": [
        "if not len(agent.all_returns)%agent.num_episodes_to_avg==0:\n",
        "    all_returns_truncated = np.array(agent.all_returns[:-(len(agent.all_returns)%agent.num_episodes_to_avg)])\n",
        "else:\n",
        "    all_returns_truncated = np.array(agent.all_returns)\n",
        "#all_returns_smoothed = np.average(all_returns_truncated.reshape(-1, agent.num_episodes_to_avg), axis=1)\n",
        "print('mean reward:', np.mean(all_returns_truncated))\n",
        "print('std reward:', np.std(all_returns_truncated))\n",
        "print('max reward:', np.max(all_returns_truncated))\n",
        "print('converge mean reward:', np.mean(all_returns_truncated[-1]))\n",
        "plt.xlabel('Number of Terminated Episodes')\n",
        "plt.ylabel('Max Reward at the Termination of an Env')\n",
        "plt.plot(all_returns_truncated)\n",
        "plt.show()"
      ]
    },
    {
      "cell_type": "code",
      "execution_count": null,
      "metadata": {
        "colab": {
          "background_save": true
        },
        "id": "3peZ1zxPbjKA",
        "outputId": "0123cd58-f42a-4e68-b808-d046a496ac6d"
      },
      "outputs": [
        {
          "name": "stdout",
          "output_type": "stream",
          "text": [
            "Reward: 500.0\n"
          ]
        },
        {
          "data": {
            "text/html": [
              "<div align=middle><video src='data:video/mp4;base64,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' controls>Sorry, seems like your browser doesn't support HTML5 audio/video</video></div>"
            ],
            "text/plain": [
              "<moviepy.video.io.html_tools.HTML2 object>"
            ]
          },
          "execution_count": 24,
          "metadata": {},
          "output_type": "execute_result"
        }
      ],
      "source": [
        "test_env = make_env(env_name, seed)\n",
        "terminated = False\n",
        "truncated = False\n",
        "steps = 0\n",
        "total_reward = 0\n",
        "observation, _ = test_env.reset()\n",
        "observation = torch.unsqueeze(torch.tensor(observation, torch.float32),dim=0)\n",
        "\n",
        "while not (terminated or truncated):\n",
        "    # take action based on policy\n",
        "    with torch.no_grad():\n",
        "      action, _, _, _ = agent.get_action_and_value(observation)\n",
        "    action = action.cpu().item()\n",
        "\n",
        "    # environment receives the action and returns:\n",
        "    # next observation, reward, terminated, truncated, and additional information (if applicable)\n",
        "    observation, reward, terminated, truncated, info = test_env.step(action)\n",
        "    observation = torch.unsqueeze(torch.tensor(observation),dim=0)\n",
        "    #print(f'Reward: {reward}')\n",
        "    total_reward += reward\n",
        "    steps += 1\n",
        "\n",
        "print(f'Reward: {total_reward}')\n",
        "\n",
        "# store RGB frames for the entire episode\n",
        "frames = test_env.render()\n",
        "\n",
        "# close the environment\n",
        "test_env.close()\n",
        "\n",
        "# create and play video clip using the frames and given fps\n",
        "clip = mpy.ImageSequenceClip(frames, fps=50)\n",
        "clip.ipython_display(rd_kwargs=dict(logger=None))"
      ]
    },
    {
      "cell_type": "markdown",
      "metadata": {
        "id": "vfi0aSHEyNwR"
      },
      "source": [
        "### Ms Pacman Results"
      ]
    },
    {
      "cell_type": "markdown",
      "metadata": {
        "id": "aHQqru538YGz"
      },
      "source": [
        "### Initial hyperparameters set using Schulman et al. (2017) Proximal Policy Optimisation Algorithms paper's parameter for Atari environments\n",
        "\n",
        "* Horizon - 128\n",
        "* Number of environments - 8\n",
        "* Learning Rate - $2.5 × 10 ^{-4}$\n",
        "* Batch size - 32\n",
        "* Discount - 0.99\n",
        "* GAE parameter (lambda) - 0.95\n",
        "* Clipping parameter - 0.1\n",
        "* Entropy coef - 0.01"
      ]
    },
    {
      "cell_type": "code",
      "execution_count": null,
      "metadata": {
        "id": "L4j5ZNEf8XSe"
      },
      "outputs": [],
      "source": [
        "env_name = 'ALE/MsPacman-ram-v5'\n",
        "n_envs = 8\n",
        "gamma = 0.99\n",
        "hidden_sizes = (64, 64, 64)\n",
        "learning_rate = 0.00025\n",
        "batch_size = 32\n",
        "max_steps = 128\n",
        "lam = 0.95\n",
        "update_epochs = 2\n",
        "clip_epsilon = 0.1\n",
        "ent_coef = 0.01\n",
        "max_grad_norm = 0.5\n",
        "num_returns_to_avg = 3\n",
        "num_episodes_to_avg = 5\n",
        "total_timesteps = 100000\n",
        "\n",
        "agent = PPOAgent(\n",
        "    env_name = env_name,\n",
        "    n_envs = n_envs,\n",
        "    gamma = gamma,\n",
        "    hidden_sizes = hidden_sizes,\n",
        "    learning_rate = learning_rate,\n",
        "    batch_size = batch_size,\n",
        "    max_steps = max_steps,\n",
        "    lam = lam,\n",
        "    update_epochs = update_epochs,\n",
        "    clip_epsilon = clip_epsilon,\n",
        "    ent_coef = ent_coef,\n",
        "    max_grad_norm = max_grad_norm,\n",
        "    num_returns_to_avg = num_returns_to_avg,\n",
        "    num_episodes_to_avg = num_episodes_to_avg,\n",
        "    total_timesteps = total_timesteps\n",
        ")\n"
      ]
    },
    {
      "cell_type": "code",
      "execution_count": null,
      "metadata": {
        "colab": {
          "background_save": true,
          "base_uri": "https://localhost:8080/"
        },
        "id": "ElwDZUROXitg",
        "outputId": "cd504ecb-67aa-4e37-93f2-95037d543fd1"
      },
      "outputs": [
        {
          "name": "stdout",
          "output_type": "stream",
          "text": [
            "Update 3124/3125 Avg episode reward for 3 eps: 78.75"
          ]
        }
      ],
      "source": [
        "agent.train()"
      ]
    },
    {
      "cell_type": "code",
      "execution_count": null,
      "metadata": {
        "colab": {
          "background_save": true
        },
        "id": "OPjTEGcgXkbA",
        "outputId": "56adad3c-8ff6-44b6-9a0c-462efea3ea48"
      },
      "outputs": [
        {
          "name": "stdout",
          "output_type": "stream",
          "text": [
            "mean reward: 77.55248\n",
            "std reward: 8.2163105\n",
            "max reward: 103.75\n",
            "converge mean reward: 77.5\n"
          ]
        },
        {
          "data": {
            "image/png": "[encoded data removed]",
            "text/plain": [
              "<Figure size 640x480 with 1 Axes>"
            ]
          },
          "metadata": {},
          "output_type": "display_data"
        }
      ],
      "source": [
        "if not len(agent.all_returns)%agent.num_episodes_to_avg==0:\n",
        "    all_returns_truncated = np.array(agent.all_returns[:-(len(agent.all_returns)%agent.num_episodes_to_avg)])\n",
        "else:\n",
        "    all_returns_truncated = np.array(agent.all_returns)\n",
        "#all_returns_smoothed = np.average(all_returns_truncated.reshape(-1, agent.num_episodes_to_avg), axis=1)\n",
        "print('mean reward:', np.mean(all_returns_truncated))\n",
        "print('std reward:', np.std(all_returns_truncated))\n",
        "print('max reward:', np.max(all_returns_truncated))\n",
        "print('converge mean reward:', np.mean(all_returns_truncated[-1]))\n",
        "plt.xlabel('Number of Terminated Episodes')\n",
        "plt.ylabel('Max Reward at the Termination of an Env')\n",
        "plt.plot(all_returns_truncated)\n",
        "plt.show()"
      ]
    },
    {
      "cell_type": "markdown",
      "source": [
        "### Increasing Trajectory Length"
      ],
      "metadata": {
        "id": "Wr5dK-dL-i8A"
      }
    },
    {
      "cell_type": "code",
      "source": [
        "env_name = 'ALE/MsPacman-ram-v5'\n",
        "n_envs = 8\n",
        "gamma = 0.99\n",
        "hidden_sizes = (64, 64, 64)\n",
        "learning_rate = 0.00025\n",
        "batch_size = 32\n",
        "max_steps = 256\n",
        "lam = 0.95\n",
        "update_epochs = 2\n",
        "clip_epsilon = 0.1\n",
        "ent_coef = 0.01\n",
        "max_grad_norm = 0.5\n",
        "num_returns_to_avg = 3\n",
        "num_episodes_to_avg = 5\n",
        "total_timesteps = 100000\n",
        "\n",
        "agent = PPOAgent(\n",
        "    env_name = env_name,\n",
        "    n_envs = n_envs,\n",
        "    gamma = gamma,\n",
        "    hidden_sizes = hidden_sizes,\n",
        "    learning_rate = learning_rate,\n",
        "    batch_size = batch_size,\n",
        "    max_steps = max_steps,\n",
        "    lam = lam,\n",
        "    update_epochs = update_epochs,\n",
        "    clip_epsilon = clip_epsilon,\n",
        "    ent_coef = ent_coef,\n",
        "    max_grad_norm = max_grad_norm,\n",
        "    num_returns_to_avg = num_returns_to_avg,\n",
        "    num_episodes_to_avg = num_episodes_to_avg,\n",
        "    total_timesteps = total_timesteps\n",
        ")\n"
      ],
      "metadata": {
        "id": "S5lGJqnP-Dkv"
      },
      "execution_count": 21,
      "outputs": []
    },
    {
      "cell_type": "code",
      "source": [
        "agent.train()"
      ],
      "metadata": {
        "colab": {
          "base_uri": "https://localhost:8080/"
        },
        "id": "zT4oEB8d-Ym-",
        "outputId": "b92e67f2-3208-4897-db7b-2d052cdd1544"
      },
      "execution_count": null,
      "outputs": [
        {
          "output_type": "stream",
          "name": "stdout",
          "text": [
            "Update 33/3125 Avg episode reward for 3 eps: 156.25"
          ]
        }
      ]
    },
    {
      "cell_type": "code",
      "source": [
        "if not len(agent.all_returns)%agent.num_episodes_to_avg==0:\n",
        "    all_returns_truncated = np.array(agent.all_returns[:-(len(agent.all_returns)%agent.num_episodes_to_avg)])\n",
        "else:\n",
        "    all_returns_truncated = np.array(agent.all_returns)\n",
        "#all_returns_smoothed = np.average(all_returns_truncated.reshape(-1, agent.num_episodes_to_avg), axis=1)\n",
        "print('mean reward:', np.mean(all_returns_truncated))\n",
        "print('std reward:', np.std(all_returns_truncated))\n",
        "print('max reward:', np.max(all_returns_truncated))\n",
        "print('converge mean reward:', np.mean(all_returns_truncated[-1]))\n",
        "plt.xlabel('Number of Terminated Episodes')\n",
        "plt.ylabel('Max Reward at the Termination of an Env')\n",
        "plt.plot(all_returns_truncated)\n",
        "plt.show()"
      ],
      "metadata": {
        "id": "p1FLrWK0-eY8"
      },
      "execution_count": null,
      "outputs": []
    },
    {
      "cell_type": "code",
      "execution_count": null,
      "metadata": {
        "colab": {
          "background_save": true
        },
        "id": "TH6Wz0NsXnaK"
      },
      "outputs": [],
      "source": [
        "test_env = make_env(env_name, seed)\n",
        "#test_env = gym.wrappers.RecordVideo(test_env, f\"videos/{env_name}test\")\n",
        "max_ep_steps = 5000\n",
        "#observation, _ = test_env.reset()\n",
        "terminated = False\n",
        "truncated = False\n",
        "steps = 0\n",
        "total_reward = 0\n",
        "observation, _ = test_env.reset()\n",
        "observation = torch.unsqueeze(torch.tensor(observation, dtype=torch.float32),dim=0)\n",
        "\n",
        "while not (terminated or truncated):\n",
        "    # take action based on policy\n",
        "    with torch.no_grad():\n",
        "      action, _, _, _ = agent.get_action_and_value(observation)\n",
        "    action = action.cpu().item()\n",
        "\n",
        "    # environment receives the action and returns:\n",
        "    # next observation, reward, terminated, truncated, and additional information (if applicable)\n",
        "    observation, reward, terminated, truncated, info = test_env.step(action)\n",
        "    observation = torch.unsqueeze(torch.tensor(observation, dtype=torch.float32),dim=0)\n",
        "    #print(f'Reward: {reward}')\n",
        "    total_reward += reward\n",
        "    steps += 1\n",
        "\n",
        "print(f'Reward: {total_reward}')\n",
        "\n",
        "# store RGB frames for the entire episode\n",
        "frames = test_env.render()\n",
        "\n",
        "# close the environment\n",
        "test_env.close()\n",
        "\n",
        "# create and play video clip using the frames and given fps\n",
        "clip = mpy.ImageSequenceClip(frames, fps=50)\n",
        "clip.ipython_display(rd_kwargs=dict(logger=None))"
      ]
    },
    {
      "cell_type": "code",
      "source": [],
      "metadata": {
        "id": "rgzMPlJw9sn2"
      },
      "execution_count": null,
      "outputs": []
    }
  ],
  "metadata": {
    "accelerator": "GPU",
    "colab": {
      "gpuType": "T4",
      "provenance": [],
      "authorship_tag": "ABX9TyML/wdHdNUpFwxzwyKrGAy0",
      "include_colab_link": true
    },
    "kernelspec": {
      "display_name": "Python 3",
      "name": "python3"
    },
    "language_info": {
      "name": "python"
    }
  },
  "nbformat": 4,
  "nbformat_minor": 0
}